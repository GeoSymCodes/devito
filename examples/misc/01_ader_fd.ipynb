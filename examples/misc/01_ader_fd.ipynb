{
 "cells": [
  {
   "cell_type": "code",
   "execution_count": 1,
   "id": "e7f08ea5-2007-4c35-aae2-ed38eded5e16",
   "metadata": {},
   "outputs": [],
   "source": [
    "import devito as dv"
   ]
  },
  {
   "cell_type": "code",
   "execution_count": 2,
   "id": "f4308415-d7ad-441c-b889-60ab4ce7155f",
   "metadata": {},
   "outputs": [],
   "source": [
    "grid = dv.Grid(shape=(201, 201), extent=(1., 1.))\n",
    "p = dv.TimeFunction(name='p', grid=grid, space_order=2)\n",
    "v = dv.VectorTimeFunction(name='v', grid=grid, space_order=2, staggered=(None, None))\n",
    "\n",
    "# Material parameters\n",
    "c = dv.Function(name='c', grid=grid)\n",
    "rho = dv.Function(name='rho', grid=grid)\n",
    "c.data[:] = 1.\n",
    "rho.data[:] = 1.\n",
    "\n",
    "# Define bouyancy for shorthand\n",
    "b = 1/rho\n",
    "# Define square celerity for shorthand\n",
    "c2 = c**2  # FIXME: This prints missing the ^2 (string does contain **2 however)"
   ]
  },
  {
   "cell_type": "code",
   "execution_count": 3,
   "id": "bfc6f3bd-3d92-46f8-a3ce-4a21a7fcce75",
   "metadata": {},
   "outputs": [
    {
     "data": {
      "text/latex": [
       "$\\displaystyle \\left[\\begin{matrix}\\frac{\\partial}{\\partial x} \\frac{1}{p(t, x, y)}\\\\\\frac{\\partial}{\\partial y} \\frac{1}{p(t, x, y)}\\end{matrix}\\right]$"
      ],
      "text/plain": [
       "Vector(Derivative(1/p(t, x, y), x), Derivative(1/p(t, x, y), y))"
      ]
     },
     "execution_count": 3,
     "metadata": {},
     "output_type": "execute_result"
    }
   ],
   "source": [
    "dv.grad(1/p)"
   ]
  },
  {
   "cell_type": "code",
   "execution_count": 4,
   "id": "6aecbe0e-daac-4235-b59c-d4a098bdbb84",
   "metadata": {},
   "outputs": [
    {
     "data": {
      "text/latex": [
       "$\\displaystyle dt$"
      ],
      "text/plain": [
       "dt"
      ]
     },
     "execution_count": 4,
     "metadata": {},
     "output_type": "execute_result"
    }
   ],
   "source": [
    "dt = grid.stepping_dim.spacing\n",
    "dt"
   ]
  },
  {
   "cell_type": "code",
   "execution_count": 5,
   "id": "8e44ac5a-0b68-40bc-8f3f-a7d30fb4964a",
   "metadata": {},
   "outputs": [
    {
     "data": {
      "text/latex": [
       "$\\displaystyle \\left[\\begin{matrix}\\frac{\\left(\\frac{\\partial}{\\partial x} v_x(t, x, y) + \\frac{\\partial}{\\partial y} v_y(t, x, y)\\right) c(x, y) \\frac{\\partial}{\\partial x} rho(x, y) + \\left(\\frac{\\partial}{\\partial x} v_x(t, x, y) + \\frac{\\partial}{\\partial y} v_y(t, x, y)\\right) rho(x, y) \\frac{\\partial}{\\partial x} c(x, y) + c(x, y) rho(x, y) \\frac{\\partial}{\\partial x} \\left(\\frac{\\partial}{\\partial x} v_x(t, x, y) + \\frac{\\partial}{\\partial y} v_y(t, x, y)\\right)}{rho(x, y)}\\\\\\frac{\\left(\\frac{\\partial}{\\partial x} v_x(t, x, y) + \\frac{\\partial}{\\partial y} v_y(t, x, y)\\right) c(x, y) \\frac{\\partial}{\\partial y} rho(x, y) + \\left(\\frac{\\partial}{\\partial x} v_x(t, x, y) + \\frac{\\partial}{\\partial y} v_y(t, x, y)\\right) rho(x, y) \\frac{\\partial}{\\partial y} c(x, y) + c(x, y) rho(x, y) \\frac{\\partial}{\\partial y} \\left(\\frac{\\partial}{\\partial x} v_x(t, x, y) + \\frac{\\partial}{\\partial y} v_y(t, x, y)\\right)}{rho(x, y)}\\end{matrix}\\right]$"
      ],
      "text/plain": [
       "Vector(((Derivative(v_x(t, x, y), x) + Derivative(v_y(t, x, y), y))*c(x, y)**2*Derivative(rho(x, y), x) + (Derivative(v_x(t, x, y), x) + Derivative(v_y(t, x, y), y))*rho(x, y)*Derivative(c(x, y)**2, x) + c(x, y)**2*rho(x, y)*Derivative(Derivative(v_x(t, x, y), x) + Derivative(v_y(t, x, y), y), x))/rho(x, y), ((Derivative(v_x(t, x, y), x) + Derivative(v_y(t, x, y), y))*c(x, y)**2*Derivative(rho(x, y), y) + (Derivative(v_x(t, x, y), x) + Derivative(v_y(t, x, y), y))*rho(x, y)*Derivative(c(x, y)**2, y) + c(x, y)**2*rho(x, y)*Derivative(Derivative(v_x(t, x, y), x) + Derivative(v_y(t, x, y), y), y))/rho(x, y))"
      ]
     },
     "execution_count": 5,
     "metadata": {},
     "output_type": "execute_result"
    }
   ],
   "source": [
    "# For setting up the 2nd-order ADER scheme\n",
    "\n",
    "# First time derivatives\n",
    "pdt = rho*c2*dv.div(v)\n",
    "vdt = b*dv.grad(p)\n",
    "\n",
    "# Second time derivatives\n",
    "pdt2 = rho*c2*(dv.grad(b).dot(dv.grad(p)) + b*p.laplace)\n",
    "vdt2 = b*(dv.grad(rho)*c2*dv.div(v) + rho*dv.grad(c2)*dv.div(v) + rho*c2*dv.grad(dv.div(v)))\n",
    "vdt2  # FIXME: dv.grad(dv.div(v)) does not get flattened and will need to be explicitly written out"
   ]
  },
  {
   "cell_type": "code",
   "execution_count": 6,
   "id": "01d7ff5a-d917-43d2-87c8-ed669461017f",
   "metadata": {},
   "outputs": [],
   "source": [
    "# Update equations (2nd-order ADER timestepping)\n",
    "eq_p = dv.Eq(p.forward, p + dt*pdt + (dt**2/2)*pdt2)\n",
    "eq_v = dv.Eq(v.forward, v + dt*vdt + (dt**2/2)*vdt2)"
   ]
  }
 ],
 "metadata": {
  "kernelspec": {
   "display_name": "Python 3 (ipykernel)",
   "language": "python",
   "name": "python3"
  },
  "language_info": {
   "codemirror_mode": {
    "name": "ipython",
    "version": 3
   },
   "file_extension": ".py",
   "mimetype": "text/x-python",
   "name": "python",
   "nbconvert_exporter": "python",
   "pygments_lexer": "ipython3",
   "version": "3.11.5"
  }
 },
 "nbformat": 4,
 "nbformat_minor": 5
}
