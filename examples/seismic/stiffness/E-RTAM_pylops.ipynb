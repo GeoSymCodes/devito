{
 "cells": [
  {
   "cell_type": "code",
   "execution_count": 1,
   "id": "f9ba0635",
   "metadata": {},
   "outputs": [
    {
     "ename": "ImportError",
     "evalue": "cannot import name 'ISOSeismicModel' from 'examples.seismic.stiffness' (/home/gabriel.sousa/forks/geosym_devito/examples/seismic/stiffness/__init__.py)",
     "output_type": "error",
     "traceback": [
      "\u001b[0;31m---------------------------------------------------------------------------\u001b[0m",
      "\u001b[0;31mImportError\u001b[0m                               Traceback (most recent call last)",
      "Cell \u001b[0;32mIn[1], line 4\u001b[0m\n\u001b[1;32m      1\u001b[0m \u001b[38;5;28;01mimport\u001b[39;00m \u001b[38;5;21;01mdevito\u001b[39;00m\n\u001b[1;32m      2\u001b[0m \u001b[38;5;28;01mimport\u001b[39;00m \u001b[38;5;21;01mnumpy\u001b[39;00m \u001b[38;5;28;01mas\u001b[39;00m \u001b[38;5;21;01mnp\u001b[39;00m\n\u001b[0;32m----> 4\u001b[0m \u001b[38;5;28;01mfrom\u001b[39;00m \u001b[38;5;21;01mpylops\u001b[39;00m\u001b[38;5;21;01m.\u001b[39;00m\u001b[38;5;21;01mutils\u001b[39;00m \u001b[38;5;28;01mimport\u001b[39;00m dottest\n\u001b[1;32m      5\u001b[0m \u001b[38;5;28;01mfrom\u001b[39;00m \u001b[38;5;21;01mpylops\u001b[39;00m\u001b[38;5;21;01m.\u001b[39;00m\u001b[38;5;21;01mwaveeqprocessing\u001b[39;00m\u001b[38;5;21;01m.\u001b[39;00m\u001b[38;5;21;01mtwoway\u001b[39;00m \u001b[38;5;28;01mimport\u001b[39;00m ElasticWave2D\n\u001b[1;32m      6\u001b[0m \u001b[38;5;28;01mfrom\u001b[39;00m \u001b[38;5;21;01mdevito\u001b[39;00m\u001b[38;5;21;01m.\u001b[39;00m\u001b[38;5;21;01mbuiltins\u001b[39;00m \u001b[38;5;28;01mimport\u001b[39;00m initialize_function\n",
      "File \u001b[0;32m~/forks/pylops/Pylops/pylops/__init__.py:52\u001b[0m\n\u001b[1;32m     50\u001b[0m \u001b[38;5;28;01mfrom\u001b[39;00m \u001b[38;5;21;01m.\u001b[39;00m\u001b[38;5;21;01mtorchoperator\u001b[39;00m \u001b[38;5;28;01mimport\u001b[39;00m \u001b[38;5;241m*\u001b[39m\n\u001b[1;32m     51\u001b[0m \u001b[38;5;28;01mfrom\u001b[39;00m \u001b[38;5;21;01m.\u001b[39;00m\u001b[38;5;21;01mbasicoperators\u001b[39;00m \u001b[38;5;28;01mimport\u001b[39;00m \u001b[38;5;241m*\u001b[39m\n\u001b[0;32m---> 52\u001b[0m \u001b[38;5;28;01mfrom\u001b[39;00m \u001b[38;5;21;01m.\u001b[39;00m \u001b[38;5;28;01mimport\u001b[39;00m (\n\u001b[1;32m     53\u001b[0m     avo,\n\u001b[1;32m     54\u001b[0m     basicoperators,\n\u001b[1;32m     55\u001b[0m     optimization,\n\u001b[1;32m     56\u001b[0m     signalprocessing,\n\u001b[1;32m     57\u001b[0m     utils,\n\u001b[1;32m     58\u001b[0m     waveeqprocessing,\n\u001b[1;32m     59\u001b[0m )\n\u001b[1;32m     60\u001b[0m \u001b[38;5;28;01mfrom\u001b[39;00m \u001b[38;5;21;01m.\u001b[39;00m\u001b[38;5;21;01mavo\u001b[39;00m\u001b[38;5;21;01m.\u001b[39;00m\u001b[38;5;21;01mpoststack\u001b[39;00m \u001b[38;5;28;01mimport\u001b[39;00m \u001b[38;5;241m*\u001b[39m\n\u001b[1;32m     61\u001b[0m \u001b[38;5;28;01mfrom\u001b[39;00m \u001b[38;5;21;01m.\u001b[39;00m\u001b[38;5;21;01mavo\u001b[39;00m\u001b[38;5;21;01m.\u001b[39;00m\u001b[38;5;21;01mprestack\u001b[39;00m \u001b[38;5;28;01mimport\u001b[39;00m \u001b[38;5;241m*\u001b[39m\n",
      "File \u001b[0;32m~/forks/pylops/Pylops/pylops/waveeqprocessing/__init__.py:35\u001b[0m\n\u001b[1;32m     33\u001b[0m \u001b[38;5;28;01mfrom\u001b[39;00m \u001b[38;5;21;01m.\u001b[39;00m\u001b[38;5;21;01mblending\u001b[39;00m \u001b[38;5;28;01mimport\u001b[39;00m \u001b[38;5;241m*\u001b[39m\n\u001b[1;32m     34\u001b[0m \u001b[38;5;28;01mfrom\u001b[39;00m \u001b[38;5;21;01m.\u001b[39;00m\u001b[38;5;21;01mkirchhoff\u001b[39;00m \u001b[38;5;28;01mimport\u001b[39;00m \u001b[38;5;241m*\u001b[39m\n\u001b[0;32m---> 35\u001b[0m \u001b[38;5;28;01mfrom\u001b[39;00m \u001b[38;5;21;01m.\u001b[39;00m\u001b[38;5;21;01mlsm\u001b[39;00m \u001b[38;5;28;01mimport\u001b[39;00m \u001b[38;5;241m*\u001b[39m\n\u001b[1;32m     36\u001b[0m \u001b[38;5;28;01mfrom\u001b[39;00m \u001b[38;5;21;01m.\u001b[39;00m\u001b[38;5;21;01mmarchenko\u001b[39;00m \u001b[38;5;28;01mimport\u001b[39;00m \u001b[38;5;241m*\u001b[39m\n\u001b[1;32m     37\u001b[0m \u001b[38;5;28;01mfrom\u001b[39;00m \u001b[38;5;21;01m.\u001b[39;00m\u001b[38;5;21;01mmdd\u001b[39;00m \u001b[38;5;28;01mimport\u001b[39;00m \u001b[38;5;241m*\u001b[39m\n",
      "File \u001b[0;32m~/forks/pylops/Pylops/pylops/waveeqprocessing/lsm.py:11\u001b[0m\n\u001b[1;32m      9\u001b[0m \u001b[38;5;28;01mfrom\u001b[39;00m \u001b[38;5;21;01mpylops\u001b[39;00m\u001b[38;5;21;01m.\u001b[39;00m\u001b[38;5;21;01mutils\u001b[39;00m\u001b[38;5;21;01m.\u001b[39;00m\u001b[38;5;21;01mtyping\u001b[39;00m \u001b[38;5;28;01mimport\u001b[39;00m NDArray\n\u001b[1;32m     10\u001b[0m \u001b[38;5;28;01mfrom\u001b[39;00m \u001b[38;5;21;01mpylops\u001b[39;00m\u001b[38;5;21;01m.\u001b[39;00m\u001b[38;5;21;01mwaveeqprocessing\u001b[39;00m\u001b[38;5;21;01m.\u001b[39;00m\u001b[38;5;21;01mkirchhoff\u001b[39;00m \u001b[38;5;28;01mimport\u001b[39;00m Kirchhoff\n\u001b[0;32m---> 11\u001b[0m \u001b[38;5;28;01mfrom\u001b[39;00m \u001b[38;5;21;01mpylops\u001b[39;00m\u001b[38;5;21;01m.\u001b[39;00m\u001b[38;5;21;01mwaveeqprocessing\u001b[39;00m\u001b[38;5;21;01m.\u001b[39;00m\u001b[38;5;21;01mtwoway\u001b[39;00m \u001b[38;5;28;01mimport\u001b[39;00m AcousticWave2D\n\u001b[1;32m     13\u001b[0m logging\u001b[38;5;241m.\u001b[39mbasicConfig(\u001b[38;5;28mformat\u001b[39m\u001b[38;5;241m=\u001b[39m\u001b[38;5;124m\"\u001b[39m\u001b[38;5;132;01m%(levelname)s\u001b[39;00m\u001b[38;5;124m: \u001b[39m\u001b[38;5;132;01m%(message)s\u001b[39;00m\u001b[38;5;124m\"\u001b[39m, level\u001b[38;5;241m=\u001b[39mlogging\u001b[38;5;241m.\u001b[39mWARNING)\n\u001b[1;32m     16\u001b[0m \u001b[38;5;28;01mclass\u001b[39;00m \u001b[38;5;21;01mLSM\u001b[39;00m:\n",
      "File \u001b[0;32m~/forks/pylops/Pylops/pylops/waveeqprocessing/twoway.py:29\u001b[0m\n\u001b[1;32m     27\u001b[0m \u001b[38;5;28;01mfrom\u001b[39;00m \u001b[38;5;21;01mexamples\u001b[39;00m\u001b[38;5;21;01m.\u001b[39;00m\u001b[38;5;21;01mseismic\u001b[39;00m\u001b[38;5;21;01m.\u001b[39;00m\u001b[38;5;21;01macoustic\u001b[39;00m \u001b[38;5;28;01mimport\u001b[39;00m AcousticWaveSolver\n\u001b[1;32m     28\u001b[0m \u001b[38;5;28;01mfrom\u001b[39;00m \u001b[38;5;21;01mexamples\u001b[39;00m\u001b[38;5;21;01m.\u001b[39;00m\u001b[38;5;21;01mseismic\u001b[39;00m\u001b[38;5;21;01m.\u001b[39;00m\u001b[38;5;21;01msource\u001b[39;00m \u001b[38;5;28;01mimport\u001b[39;00m TimeAxis\n\u001b[0;32m---> 29\u001b[0m \u001b[38;5;28;01mfrom\u001b[39;00m \u001b[38;5;21;01mexamples\u001b[39;00m\u001b[38;5;21;01m.\u001b[39;00m\u001b[38;5;21;01mseismic\u001b[39;00m\u001b[38;5;21;01m.\u001b[39;00m\u001b[38;5;21;01mstiffness\u001b[39;00m \u001b[38;5;28;01mimport\u001b[39;00m IsoElasticWaveSolver, ISOSeismicModel\n\u001b[1;32m     30\u001b[0m \u001b[38;5;28;01mfrom\u001b[39;00m \u001b[38;5;21;01mexamples\u001b[39;00m\u001b[38;5;21;01m.\u001b[39;00m\u001b[38;5;21;01mseismic\u001b[39;00m\u001b[38;5;21;01m.\u001b[39;00m\u001b[38;5;21;01mutils\u001b[39;00m \u001b[38;5;28;01mimport\u001b[39;00m PointSource, sources\n\u001b[1;32m     31\u001b[0m \u001b[38;5;28;01mfrom\u001b[39;00m \u001b[38;5;21;01mexamples\u001b[39;00m\u001b[38;5;21;01m.\u001b[39;00m\u001b[38;5;21;01mseismic\u001b[39;00m\u001b[38;5;21;01m.\u001b[39;00m\u001b[38;5;21;01mviscoacoustic\u001b[39;00m \u001b[38;5;28;01mimport\u001b[39;00m ViscoacousticWaveSolver\n",
      "\u001b[0;31mImportError\u001b[0m: cannot import name 'ISOSeismicModel' from 'examples.seismic.stiffness' (/home/gabriel.sousa/forks/geosym_devito/examples/seismic/stiffness/__init__.py)"
     ]
    }
   ],
   "source": [
    "import devito\n",
    "import numpy as np\n",
    "\n",
    "from pylops.utils import dottest\n",
    "from pylops.waveeqprocessing.twoway import ElasticWave2D\n",
    "from devito.builtins import initialize_function\n",
    "import matplotlib.pyplot as plt\n",
    "\n",
    "from examples.seismic import plot_shotrecord\n",
    "\n",
    "devito.configuration[\"log-level\"] = \"ERROR\""
   ]
  },
  {
   "cell_type": "markdown",
   "id": "5b8ad021-9265-453e-86c5-d0e86078e01e",
   "metadata": {},
   "source": [
    "## Usefull functions"
   ]
  },
  {
   "cell_type": "code",
   "execution_count": null,
   "id": "32e610fc-b257-46d8-8dee-20b73a299e6c",
   "metadata": {},
   "outputs": [],
   "source": [
    "# function to plot P wave velocity, S wave velocity and density models\n",
    "def img_model(img1, img2, img3, model, title=\"\"):\n",
    "\n",
    "    plt_options_model = {'cmap': 'jet', 'extent': [model.origin[0],\n",
    "                         model.origin[0] + model.domain_size[0],\n",
    "                         model.origin[1] + model.domain_size[1],\n",
    "                         model.origin[1]]}\n",
    "\n",
    "    fig, ax = plt.subplots(nrows=1, ncols=3, figsize=(25, 5))\n",
    "\n",
    "    scale1 = np.max(img1)\n",
    "    scale2 = np.min(img1)\n",
    "\n",
    "    imag1 = ax[0].imshow(np.transpose(img1), vmin=scale1, vmax=scale2,\n",
    "                         **plt_options_model)\n",
    "    fig.colorbar(imag1, ax=ax[0])\n",
    "    ax[0].set_title(\"Vp (km/s)\", fontsize=20)\n",
    "    ax[0].set_xlabel('z (m)', fontsize=20)\n",
    "    ax[0].set_ylabel('x (m)', fontsize=20)\n",
    "    ax[0].set_aspect('auto')\n",
    "\n",
    "    scale3 = np.max(img2)\n",
    "    scale4 = np.min(img2)\n",
    "\n",
    "    imag2 = ax[1].imshow(np.transpose(img2), vmin=scale3, vmax=scale4,\n",
    "                         **plt_options_model)\n",
    "    fig.colorbar(imag2, ax=ax[1])\n",
    "    ax[1].set_title(\"Vs (km/s)\", fontsize=20)\n",
    "    ax[1].set_xlabel('z (m)', fontsize=20)\n",
    "    ax[1].set_ylabel('x (m)', fontsize=20)\n",
    "    ax[1].set_aspect('auto')\n",
    "\n",
    "    scale5 = np.max(img3)\n",
    "    scale6 = np.min(img3)\n",
    "\n",
    "    imag3 = ax[2].imshow(np.transpose(img3), vmin=scale5, vmax=scale6,\n",
    "                         **plt_options_model)\n",
    "    fig.colorbar(imag3, ax=ax[2])\n",
    "    ax[2].set_title(r\"$\\rho$ ($g/cm^3$)\", fontsize=20)\n",
    "    ax[2].set_xlabel('z (m)', fontsize=20)\n",
    "    ax[2].set_ylabel('x (m)', fontsize=20)\n",
    "    ax[2].set_aspect('auto')"
   ]
  },
  {
   "cell_type": "code",
   "execution_count": null,
   "id": "2686dd59-3875-4328-af64-e7d45f78605b",
   "metadata": {},
   "outputs": [],
   "source": [
    "# Function that define source and receiver parameters\n",
    "def source_rec_term(model, sigma, v0, pos):\n",
    "    src = RickerSource(name='src', grid=model.grid, f0=f0, time_range=time_range)\n",
    "    src.coordinates.data[0, :] = pos[0]  # position of source in offset\n",
    "    src.coordinates.data[0, -1] = pos[1]  # position of source in depth\n",
    "\n",
    "    # Create symbol for receivers\n",
    "    rec_vx = Receiver(name='rec_vx', grid=model.grid, npoint=shape[0],\n",
    "                      time_range=time_range)\n",
    "    rec_vz = Receiver(name='rec_vz', grid=model.grid, npoint=shape[0],\n",
    "                      time_range=time_range)\n",
    "    rec_sigma = Receiver(name='rec_sigma', grid=model.grid, npoint=shape[0],\n",
    "                         time_range=time_range)\n",
    "\n",
    "    # Prescribe even spacing for receivers along the x-axis\n",
    "    rec_vx.coordinates.data[:, 0] = np.linspace(0, model.domain_size[0], num=shape[0])\n",
    "    rec_vx.coordinates.data[:, 1] = 400.  # postion of receiver at 400 m depth for vx\n",
    "\n",
    "    rec_vz.coordinates.data[:, 0] = np.linspace(0, model.domain_size[0], num=shape[0])\n",
    "    rec_vz.coordinates.data[:, 1] = 400.  # postion of receiver at 400 m depth for vz\n",
    "\n",
    "    rec_sigma.coordinates.data[:, 0] = np.linspace(0, model.domain_size[0], num=shape[0])\n",
    "    # postion of receiver at 10 m of depth for pressure field\n",
    "    rec_sigma.coordinates.data[:, 1] = 10.\n",
    "\n",
    "    src_xx = src.inject(field=sigma[0].forward, expr=src * s)\n",
    "    src_zz = src.inject(field=sigma[1].forward, expr=src * s)\n",
    "    src_term = src_xx + src_zz\n",
    "\n",
    "    rec_term_vx = rec_vx.interpolate(expr=v0[0])\n",
    "    rec_term_vz = rec_vz.interpolate(expr=v0[1])\n",
    "    rec_expr = rec_term_vx + rec_term_vz\n",
    "\n",
    "    expr = sigma[0] + sigma[1]\n",
    "    rec_term_sigma = rec_sigma.interpolate(expr=expr)\n",
    "    rec_expr += rec_term_sigma\n",
    "\n",
    "    return rec_vx, rec_vz, rec_sigma, rec_expr, src_term, src"
   ]
  },
  {
   "cell_type": "code",
   "execution_count": null,
   "id": "ff5af11b-2091-4835-82bb-4c53cd8e970d",
   "metadata": {},
   "outputs": [],
   "source": [
    "nx = 200\n",
    "nz = 120\n",
    "\n",
    "ndim = 2\n",
    "shape = (nx, nz) \n",
    "spacing = (10., 10.) \n",
    "origin = (0., 0.) \n",
    "nlayers = 3\n",
    "domain_size = ((shape[0]-1) * spacing[0], (shape[1]-1) * spacing[1])\n",
    "nbl = 50\n",
    "space_order = 8\n",
    "dtype = np.float32\n",
    "f0 = 20 #TODO: Check frequency variation from hertz to megaHertz in devito/pylops\n",
    "tn = 1800\n",
    "t0 = 0.\n",
    "par = \"vp-vs-rho\"\n",
    "src_type = \"Ricker\"\n",
    "dt = 1.492\n",
    "\n",
    "dswap = True\n",
    "dswap_disks = 1\n",
    "dswap_folder = \"dswap_ertam_pylops_tests\"\n",
    "dswap_folder_path = \"/home/gabriel.sousa/\"\n",
    "dswap_compression = \"accuracy\"\n",
    "dswap_compression_value = 1e-6\n",
    "dswap_verbose = False"
   ]
  },
  {
   "cell_type": "markdown",
   "id": "07a2fe1e-146b-4706-bfa9-7a6abe9c19b7",
   "metadata": {},
   "source": [
    "## MODEL"
   ]
  },
  {
   "cell_type": "code",
   "execution_count": null,
   "id": "4496cf4f-a6c1-4abc-93d0-16e0783564c6",
   "metadata": {
    "scrolled": true
   },
   "outputs": [],
   "source": [
    "# Physical parameters:\n",
    "vp = np.empty(shape, dtype=dtype)\n",
    "vs = np.empty(shape, dtype=dtype)\n",
    "rho = np.empty(shape, dtype=dtype)\n",
    "b = np.empty(shape, dtype=dtype)\n",
    "\n",
    "# Define a velocity profile. The velocity is in km/s\n",
    "vp_top = 1.5\n",
    "vp_bottom = 3.5\n",
    "# define a velocity profile in km/s\n",
    "v = np.empty(shape, dtype=dtype)\n",
    "v[:] = vp_top  # Top velocity (background)\n",
    "vp_i = np.linspace(vp_top, vp_bottom, nlayers)\n",
    "for i in range(1, nlayers):\n",
    "    v[..., i*int(shape[-1] / nlayers):] = vp_i[i]  # Bottom velocity\n",
    "\n",
    "vs[:] = 0.5 * v[:]\n",
    "vs[v < 1.51] = 0.0\n",
    "\n",
    "rho[:] = 0.31*(v[:]*1000.)**0.25  # Gardner's relation\n",
    "b[:] = 1./rho[:]  # Buoyancy."
   ]
  },
  {
   "cell_type": "markdown",
   "id": "05437624-2632-4420-ae9a-7416d78f1e6d",
   "metadata": {},
   "source": [
    "## GEOMETRY"
   ]
  },
  {
   "cell_type": "code",
   "execution_count": null,
   "id": "76e1cdb0-d344-4dba-bfc9-533f58fb1cac",
   "metadata": {},
   "outputs": [],
   "source": [
    "# Sources\n",
    "sx = np.linspace(domain_size[0]*.5, domain_size[0]*.5, num=1)\n",
    "sy = np.linspace(domain_size[0]*.5, domain_size[0]*.5, num=1)\n",
    "sz = origin[-1] + spacing[-1]\n",
    "\n",
    "# Receivers\n",
    "nrecx = shape[0]\n",
    "rx = np.linspace(origin[0], domain_size[0], nrecx)\n",
    "rz = origin[-1] + 2 * spacing[-1]"
   ]
  },
  {
   "cell_type": "markdown",
   "id": "d16ea4a2-4ce1-47d3-8c47-cc307867434b",
   "metadata": {},
   "source": [
    "## Operator"
   ]
  },
  {
   "cell_type": "code",
   "execution_count": null,
   "id": "d87f50cc-a883-41a8-a522-05c0448ffc38",
   "metadata": {},
   "outputs": [],
   "source": [
    "Dop = ElasticWave2D(\n",
    "    shape=shape, \n",
    "    origin=origin, \n",
    "    spacing=spacing, \n",
    "    vp=v, \n",
    "    vs=vs, \n",
    "    rho=rho, \n",
    "    nbl=nbl, \n",
    "    space_order=space_order,\n",
    "    src_x=sx, \n",
    "    src_z=sz, \n",
    "    rec_x=rx, \n",
    "    rec_z=rz, \n",
    "    t0=t0, \n",
    "    tn=tn, \n",
    "    src_type=src_type, \n",
    "    f0=f0, \n",
    "    dtype=dtype, \n",
    "    par=par, \n",
    "    dt=dt,\n",
    "    dswap=dswap, \n",
    "    dswap_disks=dswap_disks, \n",
    "    dswap_folder=dswap_folder, \n",
    "    dswap_folder_path=dswap_folder_path, \n",
    "    dswap_compression=dswap_compression,\n",
    "    dswap_compression_value=dswap_compression_value\n",
    ")"
   ]
  },
  {
   "cell_type": "code",
   "execution_count": null,
   "id": "aaa04aa7-331c-4957-848e-bcf03b4b6dda",
   "metadata": {},
   "outputs": [],
   "source": [
    "img_model(v, vs, rho, Dop.model)"
   ]
  },
  {
   "cell_type": "code",
   "execution_count": null,
   "id": "2d353819-3dad-4fbc-b402-ee26cfdae2f8",
   "metadata": {},
   "outputs": [],
   "source": [
    "dobs = Dop*v"
   ]
  }
 ],
 "metadata": {
  "kernelspec": {
   "display_name": "Python 3 (ipykernel)",
   "language": "python",
   "name": "python3"
  },
  "language_info": {
   "codemirror_mode": {
    "name": "ipython",
    "version": 3
   },
   "file_extension": ".py",
   "mimetype": "text/x-python",
   "name": "python",
   "nbconvert_exporter": "python",
   "pygments_lexer": "ipython3",
   "version": "3.12.8"
  }
 },
 "nbformat": 4,
 "nbformat_minor": 5
}
